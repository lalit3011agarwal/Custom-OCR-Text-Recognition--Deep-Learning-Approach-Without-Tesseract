{
 "cells": [
  {
   "cell_type": "code",
   "execution_count": 65,
   "metadata": {},
   "outputs": [
    {
     "name": "stderr",
     "output_type": "stream",
     "text": [
      "[nltk_data] Downloading package punkt to /Users/lalit/nltk_data...\n",
      "[nltk_data]   Package punkt is already up-to-date!\n",
      "[nltk_data] Downloading package stopwords to /Users/lalit/nltk_data...\n",
      "[nltk_data]   Package stopwords is already up-to-date!\n",
      "[nltk_data] Downloading package wordnet to /Users/lalit/nltk_data...\n",
      "[nltk_data]   Package wordnet is already up-to-date!\n",
      "[nltk_data] Downloading package averaged_perceptron_tagger to\n",
      "[nltk_data]     /Users/lalit/nltk_data...\n",
      "[nltk_data]   Package averaged_perceptron_tagger is already up-to-\n",
      "[nltk_data]       date!\n"
     ]
    },
    {
     "data": {
      "text/plain": [
       "True"
      ]
     },
     "execution_count": 65,
     "metadata": {},
     "output_type": "execute_result"
    }
   ],
   "source": [
    "import pandas as pd\n",
    "import nltk\n",
    "from nltk.corpus import stopwords\n",
    "from nltk.tokenize import word_tokenize  # For tokenization\n",
    "\n",
    "from textblob import TextBlob           # For sentiment analysis\n",
    "# from openai import OpenAI    # For OpenAI API calls\n",
    "import os\n",
    "import re                              # For regular expressions\n",
    "from transformers import pipeline\n",
    "from tqdm.auto import tqdm \n",
    "from nltk.stem import WordNetLemmatizer\n",
    "from nltk.corpus import wordnet\n",
    "import emoji\n",
    "# from spellchecker import SpellChecker\n",
    "from deep_translator import GoogleTranslator  \n",
    "#import spacy                          \n",
    "#import matplotlib.pyplot as plt         \n",
    "#import seaborn as sns                  \n",
    "\n",
    "# Download NLTK resources (if not already downloaded)\n",
    "nltk.download('punkt')\n",
    "nltk.download('stopwords')\n",
    "nltk.download('wordnet')\n",
    "nltk.download('averaged_perceptron_tagger')\n",
    "\n"
   ]
  },
  {
   "cell_type": "code",
   "execution_count": 66,
   "metadata": {},
   "outputs": [],
   "source": [
    "# df = pd.read_csv('review.txt', sep='\\n', header=None, names=['review'])\n",
    "# # sep('\\n') is used to separate the reviews by new line\n",
    "# # header=None is used to specify that there is no header in the file\n",
    "# # names=['review'] is used to specify the name of the column\n"
   ]
  },
  {
   "cell_type": "code",
   "execution_count": 67,
   "metadata": {},
   "outputs": [],
   "source": [
    "# Read reviews from the file\n",
    "with open('reviews.txt', 'r') as file:\n",
    "    reviews = file.readlines()\n",
    "\n",
    "# Create DataFrame\n",
    "df = pd.DataFrame(reviews, columns=['reviews'])"
   ]
  },
  {
   "cell_type": "code",
   "execution_count": 68,
   "metadata": {},
   "outputs": [
    {
     "data": {
      "text/html": [
       "<div>\n",
       "<style scoped>\n",
       "    .dataframe tbody tr th:only-of-type {\n",
       "        vertical-align: middle;\n",
       "    }\n",
       "\n",
       "    .dataframe tbody tr th {\n",
       "        vertical-align: top;\n",
       "    }\n",
       "\n",
       "    .dataframe thead th {\n",
       "        text-align: right;\n",
       "    }\n",
       "</style>\n",
       "<table border=\"1\" class=\"dataframe\">\n",
       "  <thead>\n",
       "    <tr style=\"text-align: right;\">\n",
       "      <th></th>\n",
       "      <th>reviews</th>\n",
       "    </tr>\n",
       "  </thead>\n",
       "  <tbody>\n",
       "    <tr>\n",
       "      <th>0</th>\n",
       "      <td>I've been using the ShibaSolv app for a while ...</td>\n",
       "    </tr>\n",
       "    <tr>\n",
       "      <th>1</th>\n",
       "      <td>Worst application. It doesn't let me connect m...</td>\n",
       "    </tr>\n",
       "    <tr>\n",
       "      <th>2</th>\n",
       "      <td>I have a crypto portfolio worth close to $70K ...</td>\n",
       "    </tr>\n",
       "    <tr>\n",
       "      <th>3</th>\n",
       "      <td>Bahut hi vdiya app hai chote mote traders ko b...</td>\n",
       "    </tr>\n",
       "    <tr>\n",
       "      <th>4</th>\n",
       "      <td>Exchange API key. hey I'm unable to add my exc...</td>\n",
       "    </tr>\n",
       "  </tbody>\n",
       "</table>\n",
       "</div>"
      ],
      "text/plain": [
       "                                             reviews\n",
       "0  I've been using the ShibaSolv app for a while ...\n",
       "1  Worst application. It doesn't let me connect m...\n",
       "2  I have a crypto portfolio worth close to $70K ...\n",
       "3  Bahut hi vdiya app hai chote mote traders ko b...\n",
       "4  Exchange API key. hey I'm unable to add my exc..."
      ]
     },
     "execution_count": 68,
     "metadata": {},
     "output_type": "execute_result"
    }
   ],
   "source": [
    "# Display the first 5 rows\n",
    "df.head()"
   ]
  },
  {
   "cell_type": "code",
   "execution_count": 69,
   "metadata": {},
   "outputs": [
    {
     "data": {
      "text/plain": [
       "100"
      ]
     },
     "execution_count": 69,
     "metadata": {},
     "output_type": "execute_result"
    }
   ],
   "source": [
    "len(df)"
   ]
  },
  {
   "cell_type": "markdown",
   "metadata": {},
   "source": [
    "Preprocessing"
   ]
  },
  {
   "cell_type": "code",
   "execution_count": 70,
   "metadata": {},
   "outputs": [],
   "source": [
    "# Lowercase\n",
    "df['clean_reviews'] = df['reviews'].astype(str).apply(lambda x: x.lower())"
   ]
  },
  {
   "cell_type": "code",
   "execution_count": 71,
   "metadata": {},
   "outputs": [],
   "source": [
    "# Removing punctuation\n",
    "df['clean_reviews'] = df['clean_reviews'].apply(lambda x: re.sub(r'[^\\w\\s]', '', x))"
   ]
  },
  {
   "cell_type": "code",
   "execution_count": 72,
   "metadata": {},
   "outputs": [],
   "source": [
    "# Removing numbers\n",
    "df['clean_reviews'] = df['clean_reviews'].apply(lambda x: re.sub(r'\\d+', '', x))"
   ]
  },
  {
   "cell_type": "code",
   "execution_count": 73,
   "metadata": {},
   "outputs": [],
   "source": [
    "# Removing whitespace\n",
    "df['clean_reviews'] = df['clean_reviews'].apply(lambda x: re.sub(r'\\s+', ' ', x).strip())"
   ]
  },
  {
   "cell_type": "code",
   "execution_count": 74,
   "metadata": {},
   "outputs": [],
   "source": [
    "# Replace emojis with their descriptions\n",
    "df['clean_reviews'] = df['clean_reviews'].apply(emoji.demojize)"
   ]
  },
  {
   "cell_type": "code",
   "execution_count": 75,
   "metadata": {},
   "outputs": [],
   "source": [
    "# Tokenization (splitting into words)\n",
    "df['tokens'] = df['clean_reviews'].apply(word_tokenize)"
   ]
  },
  {
   "cell_type": "code",
   "execution_count": 76,
   "metadata": {},
   "outputs": [],
   "source": [
    "# # Load words to ignore from the file\n",
    "# with open(\"most_common_filtered_words.txt\", \"r\") as file:\n",
    "#     words_to_ignore = set(file.read().splitlines())\n",
    "\n",
    "# # Spell Correction (excluding words to ignore)\n",
    "# spell = SpellChecker()\n",
    "# df['tokens'] = df['tokens'].apply(lambda tokens: [SpellChecker().correction(w) or w if w not in words_to_ignore else w for w in tokens])"
   ]
  },
  {
   "cell_type": "code",
   "execution_count": 77,
   "metadata": {},
   "outputs": [
    {
     "data": {
      "text/html": [
       "<div>\n",
       "<style scoped>\n",
       "    .dataframe tbody tr th:only-of-type {\n",
       "        vertical-align: middle;\n",
       "    }\n",
       "\n",
       "    .dataframe tbody tr th {\n",
       "        vertical-align: top;\n",
       "    }\n",
       "\n",
       "    .dataframe thead th {\n",
       "        text-align: right;\n",
       "    }\n",
       "</style>\n",
       "<table border=\"1\" class=\"dataframe\">\n",
       "  <thead>\n",
       "    <tr style=\"text-align: right;\">\n",
       "      <th></th>\n",
       "      <th>reviews</th>\n",
       "      <th>clean_reviews</th>\n",
       "      <th>tokens</th>\n",
       "    </tr>\n",
       "  </thead>\n",
       "  <tbody>\n",
       "    <tr>\n",
       "      <th>0</th>\n",
       "      <td>I've been using the ShibaSolv app for a while ...</td>\n",
       "      <td>ive been using the shibasolv app for a while n...</td>\n",
       "      <td>[ive, been, using, the, shibasolv, app, for, a...</td>\n",
       "    </tr>\n",
       "    <tr>\n",
       "      <th>1</th>\n",
       "      <td>Worst application. It doesn't let me connect m...</td>\n",
       "      <td>worst application it doesnt let me connect my ...</td>\n",
       "      <td>[worst, application, it, doesnt, let, me, conn...</td>\n",
       "    </tr>\n",
       "    <tr>\n",
       "      <th>2</th>\n",
       "      <td>I have a crypto portfolio worth close to $70K ...</td>\n",
       "      <td>i have a crypto portfolio worth close to k sti...</td>\n",
       "      <td>[i, have, a, crypto, portfolio, worth, close, ...</td>\n",
       "    </tr>\n",
       "    <tr>\n",
       "      <th>3</th>\n",
       "      <td>Bahut hi vdiya app hai chote mote traders ko b...</td>\n",
       "      <td>bahut hi vdiya app hai chote mote traders ko b...</td>\n",
       "      <td>[bahut, hi, vdiya, app, hai, chote, mote, trad...</td>\n",
       "    </tr>\n",
       "    <tr>\n",
       "      <th>4</th>\n",
       "      <td>Exchange API key. hey I'm unable to add my exc...</td>\n",
       "      <td>exchange api key hey im unable to add my excha...</td>\n",
       "      <td>[exchange, api, key, hey, im, unable, to, add,...</td>\n",
       "    </tr>\n",
       "  </tbody>\n",
       "</table>\n",
       "</div>"
      ],
      "text/plain": [
       "                                             reviews  \\\n",
       "0  I've been using the ShibaSolv app for a while ...   \n",
       "1  Worst application. It doesn't let me connect m...   \n",
       "2  I have a crypto portfolio worth close to $70K ...   \n",
       "3  Bahut hi vdiya app hai chote mote traders ko b...   \n",
       "4  Exchange API key. hey I'm unable to add my exc...   \n",
       "\n",
       "                                       clean_reviews  \\\n",
       "0  ive been using the shibasolv app for a while n...   \n",
       "1  worst application it doesnt let me connect my ...   \n",
       "2  i have a crypto portfolio worth close to k sti...   \n",
       "3  bahut hi vdiya app hai chote mote traders ko b...   \n",
       "4  exchange api key hey im unable to add my excha...   \n",
       "\n",
       "                                              tokens  \n",
       "0  [ive, been, using, the, shibasolv, app, for, a...  \n",
       "1  [worst, application, it, doesnt, let, me, conn...  \n",
       "2  [i, have, a, crypto, portfolio, worth, close, ...  \n",
       "3  [bahut, hi, vdiya, app, hai, chote, mote, trad...  \n",
       "4  [exchange, api, key, hey, im, unable, to, add,...  "
      ]
     },
     "execution_count": 77,
     "metadata": {},
     "output_type": "execute_result"
    }
   ],
   "source": [
    "df.head()"
   ]
  },
  {
   "cell_type": "code",
   "execution_count": 78,
   "metadata": {},
   "outputs": [],
   "source": [
    "# Stopword Removal (remove common, less meaningful words)\n",
    "stop_words = set(stopwords.words('english'))\n",
    "df['tokens'] = df['tokens'].apply(lambda tokens: [w for w in tokens if not w in stop_words])"
   ]
  },
  {
   "cell_type": "code",
   "execution_count": 79,
   "metadata": {},
   "outputs": [],
   "source": [
    "# Lemmatization (reduce words to their base form)\n",
    "lemmatizer = WordNetLemmatizer()\n",
    "df['tokens'] = df['tokens'].apply(lambda tokens: [lemmatizer.lemmatize(w) for w in tokens])"
   ]
  },
  {
   "cell_type": "code",
   "execution_count": 80,
   "metadata": {},
   "outputs": [],
   "source": [
    "# Filter Short Words (remove very short words, often noise)\n",
    "df['tokens'] = df['tokens'].apply(lambda tokens: [token for token in tokens if len(token) > 2])"
   ]
  },
  {
   "cell_type": "code",
   "execution_count": 81,
   "metadata": {},
   "outputs": [],
   "source": [
    "# Join Tokens Back into Sentences\n",
    "df['clean_reviews'] = df['tokens'].apply(lambda tokens: ' '.join(tokens)) "
   ]
  },
  {
   "cell_type": "code",
   "execution_count": 82,
   "metadata": {},
   "outputs": [
    {
     "name": "stdout",
     "output_type": "stream",
     "text": [
      "| clean_reviews                                                                                                                                                                                                                                                                                                                                                                               |\n",
      "|:--------------------------------------------------------------------------------------------------------------------------------------------------------------------------------------------------------------------------------------------------------------------------------------------------------------------------------------------------------------------------------------------|\n",
      "| ive using shibasolv app find really interesting fun app managing cryptocurrencies give lot opportunity one track investment improve trading strategy                                                                                                                                                                                                                                        |\n",
      "| worst application doesnt let connect wallet neither exchange account nothing work                                                                                                                                                                                                                                                                                                           |\n",
      "| crypto portfolio worth close still cant find transaction connect wallet                                                                                                                                                                                                                                                                                                                     |\n",
      "| bahut vdiya app hai chote mote trader invest krne moka deta hai aur earn krne jisse new crypto enthusiast hai mere jaise unko moka milta hai aur ummed jagti hai minimum investment thoda kam hota aur jada better hota aur experienced trader hai usko beginner wale feature show hote hai nhi hone chahye jab experience level dal rhe hai apply kar skta hai whi show kre usko sort krke |\n",
      "| exchange api key hey unable add exchange api key whenever add telling wrong plz tell add exchange api key find                                                                                                                                                                                                                                                                              |\n"
     ]
    }
   ],
   "source": [
    "# Display preprocessed reviews\n",
    "print(df['clean_reviews'].head().to_markdown(index=False, numalign=\"left\", stralign=\"left\"))"
   ]
  },
  {
   "cell_type": "code",
   "execution_count": 83,
   "metadata": {},
   "outputs": [
    {
     "data": {
      "text/html": [
       "<div>\n",
       "<style scoped>\n",
       "    .dataframe tbody tr th:only-of-type {\n",
       "        vertical-align: middle;\n",
       "    }\n",
       "\n",
       "    .dataframe tbody tr th {\n",
       "        vertical-align: top;\n",
       "    }\n",
       "\n",
       "    .dataframe thead th {\n",
       "        text-align: right;\n",
       "    }\n",
       "</style>\n",
       "<table border=\"1\" class=\"dataframe\">\n",
       "  <thead>\n",
       "    <tr style=\"text-align: right;\">\n",
       "      <th></th>\n",
       "      <th>reviews</th>\n",
       "      <th>clean_reviews</th>\n",
       "      <th>tokens</th>\n",
       "    </tr>\n",
       "  </thead>\n",
       "  <tbody>\n",
       "    <tr>\n",
       "      <th>0</th>\n",
       "      <td>I've been using the ShibaSolv app for a while ...</td>\n",
       "      <td>ive using shibasolv app find really interestin...</td>\n",
       "      <td>[ive, using, shibasolv, app, find, really, int...</td>\n",
       "    </tr>\n",
       "    <tr>\n",
       "      <th>1</th>\n",
       "      <td>Worst application. It doesn't let me connect m...</td>\n",
       "      <td>worst application doesnt let connect wallet ne...</td>\n",
       "      <td>[worst, application, doesnt, let, connect, wal...</td>\n",
       "    </tr>\n",
       "    <tr>\n",
       "      <th>2</th>\n",
       "      <td>I have a crypto portfolio worth close to $70K ...</td>\n",
       "      <td>crypto portfolio worth close still cant find t...</td>\n",
       "      <td>[crypto, portfolio, worth, close, still, cant,...</td>\n",
       "    </tr>\n",
       "    <tr>\n",
       "      <th>3</th>\n",
       "      <td>Bahut hi vdiya app hai chote mote traders ko b...</td>\n",
       "      <td>bahut vdiya app hai chote mote trader invest k...</td>\n",
       "      <td>[bahut, vdiya, app, hai, chote, mote, trader, ...</td>\n",
       "    </tr>\n",
       "    <tr>\n",
       "      <th>4</th>\n",
       "      <td>Exchange API key. hey I'm unable to add my exc...</td>\n",
       "      <td>exchange api key hey unable add exchange api k...</td>\n",
       "      <td>[exchange, api, key, hey, unable, add, exchang...</td>\n",
       "    </tr>\n",
       "  </tbody>\n",
       "</table>\n",
       "</div>"
      ],
      "text/plain": [
       "                                             reviews  \\\n",
       "0  I've been using the ShibaSolv app for a while ...   \n",
       "1  Worst application. It doesn't let me connect m...   \n",
       "2  I have a crypto portfolio worth close to $70K ...   \n",
       "3  Bahut hi vdiya app hai chote mote traders ko b...   \n",
       "4  Exchange API key. hey I'm unable to add my exc...   \n",
       "\n",
       "                                       clean_reviews  \\\n",
       "0  ive using shibasolv app find really interestin...   \n",
       "1  worst application doesnt let connect wallet ne...   \n",
       "2  crypto portfolio worth close still cant find t...   \n",
       "3  bahut vdiya app hai chote mote trader invest k...   \n",
       "4  exchange api key hey unable add exchange api k...   \n",
       "\n",
       "                                              tokens  \n",
       "0  [ive, using, shibasolv, app, find, really, int...  \n",
       "1  [worst, application, doesnt, let, connect, wal...  \n",
       "2  [crypto, portfolio, worth, close, still, cant,...  \n",
       "3  [bahut, vdiya, app, hai, chote, mote, trader, ...  \n",
       "4  [exchange, api, key, hey, unable, add, exchang...  "
      ]
     },
     "execution_count": 83,
     "metadata": {},
     "output_type": "execute_result"
    }
   ],
   "source": [
    "df.head()"
   ]
  },
  {
   "cell_type": "code",
   "execution_count": 84,
   "metadata": {},
   "outputs": [
    {
     "name": "stdout",
     "output_type": "stream",
     "text": [
      "{'months', 'best', 'account', 'trade', 'wallet', 'advanced', 'good', 'traders', 'shibasolv', 'crypto', 'profitable', 'features', 'worst', 'even', 'app', 'trading', 'hai', 'connect', 'strategies', 'exchange'}\n"
     ]
    }
   ],
   "source": [
    "with open('most_common_filtered_words.txt', 'r') as file:\n",
    "    loanwords = set(word.strip() for word in file)\n",
    "\n",
    "print(loanwords)\n",
    "\n"
   ]
  },
  {
   "cell_type": "code",
   "execution_count": 85,
   "metadata": {},
   "outputs": [],
   "source": [
    "def detect_language_char(text):\n",
    "    latin_chars = re.findall(r'[a-zA-Z]', text)\n",
    "    non_latin_ratio = 1 - (len(latin_chars) / len(text))\n",
    "    return 'hi' if non_latin_ratio > 0.155 else 'en' # 0.155 is the threshold"
   ]
  },
  {
   "cell_type": "code",
   "execution_count": 86,
   "metadata": {},
   "outputs": [],
   "source": [
    "df['language'] = df['clean_reviews'].apply(detect_language_char)\n"
   ]
  },
  {
   "cell_type": "code",
   "execution_count": null,
   "metadata": {},
   "outputs": [],
   "source": []
  },
  {
   "cell_type": "code",
   "execution_count": 87,
   "metadata": {},
   "outputs": [],
   "source": [
    "df_hinglish = df[df['language'] == 'hi'].copy()\n",
    "df_english = df[df['language'] == 'en'].copy()"
   ]
  },
  {
   "cell_type": "code",
   "execution_count": 88,
   "metadata": {},
   "outputs": [],
   "source": [
    "translator = GoogleTranslator(source='hi', target='en')  # Specify source and target languages\n"
   ]
  },
  {
   "cell_type": "code",
   "execution_count": 89,
   "metadata": {},
   "outputs": [
    {
     "data": {
      "application/vnd.jupyter.widget-view+json": {
       "model_id": "26e3037fbd814f33a09630d0e1582823",
       "version_major": 2,
       "version_minor": 0
      },
      "text/plain": [
       "  0%|          | 0/12 [00:00<?, ?it/s]"
      ]
     },
     "metadata": {},
     "output_type": "display_data"
    }
   ],
   "source": [
    "tqdm.pandas(desc=\"Translating Hinglish Reviews\")\n",
    "def translate_with_progress(text, translator):\n",
    "    return translator.translate(text)\n",
    "df_hinglish['clean_reviews'] = [translate_with_progress(text, translator) for text in tqdm(df_hinglish['clean_reviews'])]"
   ]
  },
  {
   "cell_type": "code",
   "execution_count": 90,
   "metadata": {},
   "outputs": [
    {
     "data": {
      "application/vnd.jupyter.widget-view+json": {
       "model_id": "3403bf53d35647e399191dd57b013548",
       "version_major": 2,
       "version_minor": 0
      },
      "text/plain": [
       "  0%|          | 0/12 [00:00<?, ?it/s]"
      ]
     },
     "metadata": {},
     "output_type": "display_data"
    }
   ],
   "source": [
    "df_hinglish['review_trans'] = [translate_with_progress(text, translator) for text in tqdm(df_hinglish['reviews'])]\n",
    "df_hinglish['clean_review_trans'] = df_hinglish['clean_reviews']"
   ]
  },
  {
   "cell_type": "code",
   "execution_count": 91,
   "metadata": {},
   "outputs": [],
   "source": [
    "# Create new columns for original English reviews and cleaned English reviews\n",
    "df_english['review_trans'] = df_english['reviews']\n",
    "df_english['clean_review_trans'] = df_english['clean_reviews']"
   ]
  },
  {
   "cell_type": "code",
   "execution_count": 92,
   "metadata": {},
   "outputs": [],
   "source": [
    "# Combine clean_review_trans from both DataFrames into the original df\n",
    "df = pd.concat([df_english, df_hinglish], ignore_index=True)\n",
    "df.reset_index(drop=True, inplace=True)"
   ]
  },
  {
   "cell_type": "code",
   "execution_count": 93,
   "metadata": {},
   "outputs": [],
   "source": [
    "df['clean_review_trans'] = df.apply(\n",
    "    lambda row: row['clean_reviews'] if row['language'] == 'en' else row['clean_review_trans'],\n",
    "    axis=1\n",
    ")"
   ]
  },
  {
   "cell_type": "code",
   "execution_count": 94,
   "metadata": {},
   "outputs": [
    {
     "name": "stdout",
     "output_type": "stream",
     "text": [
      "| reviews                                                                                                                                                                                                                                                                                                                                                                                                                                                                                                                                            | clean_reviews                                                                                                                                                                                                                                                                                                                                                                                      | tokens                                                                                                                                                                                                                                                                                                                                                                                                                                                                                                                                                                                                      | language   | review_trans                                                                                                                                                                                                                                                                                                                                                                                                                                                                                                                                       | clean_review_trans                                                                                                                                                                                                                                                                                                                                                                                 |\n",
      "|:---------------------------------------------------------------------------------------------------------------------------------------------------------------------------------------------------------------------------------------------------------------------------------------------------------------------------------------------------------------------------------------------------------------------------------------------------------------------------------------------------------------------------------------------------|:---------------------------------------------------------------------------------------------------------------------------------------------------------------------------------------------------------------------------------------------------------------------------------------------------------------------------------------------------------------------------------------------------|:------------------------------------------------------------------------------------------------------------------------------------------------------------------------------------------------------------------------------------------------------------------------------------------------------------------------------------------------------------------------------------------------------------------------------------------------------------------------------------------------------------------------------------------------------------------------------------------------------------|:-----------|:---------------------------------------------------------------------------------------------------------------------------------------------------------------------------------------------------------------------------------------------------------------------------------------------------------------------------------------------------------------------------------------------------------------------------------------------------------------------------------------------------------------------------------------------------|:---------------------------------------------------------------------------------------------------------------------------------------------------------------------------------------------------------------------------------------------------------------------------------------------------------------------------------------------------------------------------------------------------|\n",
      "| didn't receive any profit and the app has issues with connecting my exchange. I read some reviews and a lot of other people are facing the same issue.                                                                                                                                                                                                                                                                                                                                                                                             | didnt receive profit app issue connecting exchange read review lot people facing issue                                                                                                                                                                                                                                                                                                             | ['didnt', 'receive', 'profit', 'app', 'issue', 'connecting', 'exchange', 'read', 'review', 'lot', 'people', 'facing', 'issue']                                                                                                                                                                                                                                                                                                                                                                                                                                                                              | en         | didn't receive any profit and the app has issues with connecting my exchange. I read some reviews and a lot of other people are facing the same issue.                                                                                                                                                                                                                                                                                                                                                                                             | didnt receive profit app issue connecting exchange read review lot people facing issue                                                                                                                                                                                                                                                                                                             |\n",
      "| Totally Worst Application, full of Time Waste, they didn't reply any of your query and msgs, they didn't any strategy Approval, totally Time Waste                                                                                                                                                                                                                                                                                                                                                                                                 | totally worst application full time waste didnt reply query msg didnt strategy approval totally time waste                                                                                                                                                                                                                                                                                         | ['totally', 'worst', 'application', 'full', 'time', 'waste', 'didnt', 'reply', 'query', 'msg', 'didnt', 'strategy', 'approval', 'totally', 'time', 'waste']                                                                                                                                                                                                                                                                                                                                                                                                                                                 | en         | Totally Worst Application, full of Time Waste, they didn't reply any of your query and msgs, they didn't any strategy Approval, totally Time Waste                                                                                                                                                                                                                                                                                                                                                                                                 | totally worst application full time waste didnt reply query msg didnt strategy approval totally time waste                                                                                                                                                                                                                                                                                         |\n",
      "| Nonsense useless app. Can't connect to any wallets or exchanges. When I try to connect it always show error or user not found. Plz work on your programming. I think there is an error in your programming.                                                                                                                                                                                                                                                                                                                                        | nonsense useless app cant connect wallet exchange try connect always show error user found plz work programming think error programming                                                                                                                                                                                                                                                            | ['nonsense', 'useless', 'app', 'cant', 'connect', 'wallet', 'exchange', 'try', 'connect', 'always', 'show', 'error', 'user', 'found', 'plz', 'work', 'programming', 'think', 'error', 'programming']                                                                                                                                                                                                                                                                                                                                                                                                        | en         | Nonsense useless app. Can't connect to any wallets or exchanges. When I try to connect it always show error or user not found. Plz work on your programming. I think there is an error in your programming.                                                                                                                                                                                                                                                                                                                                        | nonsense useless app cant connect wallet exchange try connect always show error user found plz work programming think error programming                                                                                                                                                                                                                                                            |\n",
      "| Great app for beginners traders ❤️                                                                                                                                                                                                                                                                                                                                                                                                                                                                                                                 | great app beginner trader                                                                                                                                                                                                                                                                                                                                                                          | ['great', 'app', 'beginner', 'trader']                                                                                                                                                                                                                                                                                                                                                                                                                                                                                                                                                                      | en         | Great app for beginners traders ❤️                                                                                                                                                                                                                                                                                                                                                                                                                                                                                                                 | great app beginner trader                                                                                                                                                                                                                                                                                                                                                                          |\n",
      "| It's help alot                                                                                                                                                                                                                                                                                                                                                                                                                                                                                                                                     | help alot                                                                                                                                                                                                                                                                                                                                                                                          | ['help', 'alot']                                                                                                                                                                                                                                                                                                                                                                                                                                                                                                                                                                                            | en         | It's help alot                                                                                                                                                                                                                                                                                                                                                                                                                                                                                                                                     | help alot                                                                                                                                                                                                                                                                                                                                                                                          |\n",
      "| Support system is pathetic never help I am eligible for the advanced features they will not respond plz solve it my humble request to you 🙏                                                                                                                                                                                                                                                                                                                                                                                                       | support system pathetic never help eligible advanced feature respond plz solve humble request                                                                                                                                                                                                                                                                                                      | ['support', 'system', 'pathetic', 'never', 'help', 'eligible', 'advanced', 'feature', 'respond', 'plz', 'solve', 'humble', 'request']                                                                                                                                                                                                                                                                                                                                                                                                                                                                       | en         | Support system is pathetic never help I am eligible for the advanced features they will not respond plz solve it my humble request to you 🙏                                                                                                                                                                                                                                                                                                                                                                                                       | support system pathetic never help eligible advanced feature respond plz solve humble request                                                                                                                                                                                                                                                                                                      |\n",
      "| ShibaSolv is a great application 👍 this app provide us advanced trading tools ❤️ peoples see the charts of cryptocurrencies for better results 😊 the traders of this application show the trading strategies in detail the workers of this app work fastly for you and they do a great job 👍 ShibaSolv app team is dedicated to providing a great service, ensuring that your trades run smoothly this is highly important for traders that are running something related to selling cryptocurrencies online the more they are socially connect | shibasolv great application app provide advanced trading tool people see chart cryptocurrencies better result trader application show trading strategy detail worker app work fastly great job shibasolv app team dedicated providing great service ensuring trade run smoothly highly important trader running something related selling cryptocurrencies online socially connect                 | ['shibasolv', 'great', 'application', 'app', 'provide', 'advanced', 'trading', 'tool', 'people', 'see', 'chart', 'cryptocurrencies', 'better', 'result', 'trader', 'application', 'show', 'trading', 'strategy', 'detail', 'worker', 'app', 'work', 'fastly', 'great', 'job', 'shibasolv', 'app', 'team', 'dedicated', 'providing', 'great', 'service', 'ensuring', 'trade', 'run', 'smoothly', 'highly', 'important', 'trader', 'running', 'something', 'related', 'selling', 'cryptocurrencies', 'online', 'socially', 'connect']                                                                         | en         | ShibaSolv is a great application 👍 this app provide us advanced trading tools ❤️ peoples see the charts of cryptocurrencies for better results 😊 the traders of this application show the trading strategies in detail the workers of this app work fastly for you and they do a great job 👍 ShibaSolv app team is dedicated to providing a great service, ensuring that your trades run smoothly this is highly important for traders that are running something related to selling cryptocurrencies online the more they are socially connect | shibasolv great application app provide advanced trading tool people see chart cryptocurrencies better result trader application show trading strategy detail worker app work fastly great job shibasolv app team dedicated providing great service ensuring trade run smoothly highly important trader running something related selling cryptocurrencies online socially connect                 |\n",
      "| great platform for all crypto freaks out there!                                                                                                                                                                                                                                                                                                                                                                                                                                                                                                    | great platform crypto freak                                                                                                                                                                                                                                                                                                                                                                        | ['great', 'platform', 'crypto', 'freak']                                                                                                                                                                                                                                                                                                                                                                                                                                                                                                                                                                    | en         | great platform for all crypto freaks out there!                                                                                                                                                                                                                                                                                                                                                                                                                                                                                                    | great platform crypto freak                                                                                                                                                                                                                                                                                                                                                                        |\n",
      "| Hey I am not able to make account here, whenever I tried to create an account over here, it not shown next process, still place on same creating account page                                                                                                                                                                                                                                                                                                                                                                                      | hey able make account whenever tried create account shown next process still place creating account page                                                                                                                                                                                                                                                                                           | ['hey', 'able', 'make', 'account', 'whenever', 'tried', 'create', 'account', 'shown', 'next', 'process', 'still', 'place', 'creating', 'account', 'page']                                                                                                                                                                                                                                                                                                                                                                                                                                                   | en         | Hey I am not able to make account here, whenever I tried to create an account over here, it not shown next process, still place on same creating account page                                                                                                                                                                                                                                                                                                                                                                                      | hey able make account whenever tried create account shown next process still place creating account page                                                                                                                                                                                                                                                                                           |\n",
      "| Perfect app for micro traders who are searching for profitable strategies!                                                                                                                                                                                                                                                                                                                                                                                                                                                                         | perfect app micro trader searching profitable strategy                                                                                                                                                                                                                                                                                                                                             | ['perfect', 'app', 'micro', 'trader', 'searching', 'profitable', 'strategy']                                                                                                                                                                                                                                                                                                                                                                                                                                                                                                                                | en         | Perfect app for micro traders who are searching for profitable strategies!                                                                                                                                                                                                                                                                                                                                                                                                                                                                         | perfect app micro trader searching profitable strategy                                                                                                                                                                                                                                                                                                                                             |\n",
      "| This very useful application for traders and exchange companies. It's very helps to contact traders and exchanges.                                                                                                                                                                                                                                                                                                                                                                                                                                 | useful application trader exchange company help contact trader exchange                                                                                                                                                                                                                                                                                                                            | ['useful', 'application', 'trader', 'exchange', 'company', 'help', 'contact', 'trader', 'exchange']                                                                                                                                                                                                                                                                                                                                                                                                                                                                                                         | en         | This very useful application for traders and exchange companies. It's very helps to contact traders and exchanges.                                                                                                                                                                                                                                                                                                                                                                                                                                 | useful application trader exchange company help contact trader exchange                                                                                                                                                                                                                                                                                                                            |\n",
      "| Applied for advanced features but my approval is still pending from weeks...I don't how u guys work...not getting any response, still on hold for the approval Not gonna work I guess...of nt thn I should uninstall this app.                                                                                                                                                                                                                                                                                                                     | applied advanced feature approval still pending weeksi dont guy worknot getting response still hold approval gon work guessof thn uninstall app                                                                                                                                                                                                                                                    | ['applied', 'advanced', 'feature', 'approval', 'still', 'pending', 'weeksi', 'dont', 'guy', 'worknot', 'getting', 'response', 'still', 'hold', 'approval', 'gon', 'work', 'guessof', 'thn', 'uninstall', 'app']                                                                                                                                                                                                                                                                                                                                                                                             | en         | Applied for advanced features but my approval is still pending from weeks...I don't how u guys work...not getting any response, still on hold for the approval Not gonna work I guess...of nt thn I should uninstall this app.                                                                                                                                                                                                                                                                                                                     | applied advanced feature approval still pending weeksi dont guy worknot getting response still hold approval gon work guessof thn uninstall app                                                                                                                                                                                                                                                    |\n",
      "| Please ask your support team to reply fast and do update your app with the enrollment of more exchanges...and I am not able to connect my wallet on your app.                                                                                                                                                                                                                                                                                                                                                                                      | please ask support team reply fast update app enrollment exchangesand able connect wallet app                                                                                                                                                                                                                                                                                                      | ['please', 'ask', 'support', 'team', 'reply', 'fast', 'update', 'app', 'enrollment', 'exchangesand', 'able', 'connect', 'wallet', 'app']                                                                                                                                                                                                                                                                                                                                                                                                                                                                    | en         | Please ask your support team to reply fast and do update your app with the enrollment of more exchanges...and I am not able to connect my wallet on your app.                                                                                                                                                                                                                                                                                                                                                                                      | please ask support team reply fast update app enrollment exchangesand able connect wallet app                                                                                                                                                                                                                                                                                                      |\n",
      "| .nice app lots of trading strategies do check out                                                                                                                                                                                                                                                                                                                                                                                                                                                                                                  | nice app lot trading strategy check                                                                                                                                                                                                                                                                                                                                                                | ['nice', 'app', 'lot', 'trading', 'strategy', 'check']                                                                                                                                                                                                                                                                                                                                                                                                                                                                                                                                                      | en         | .nice app lots of trading strategies do check out                                                                                                                                                                                                                                                                                                                                                                                                                                                                                                  | nice app lot trading strategy check                                                                                                                                                                                                                                                                                                                                                                |\n",
      "| Trying to update my profile after logging in... But as soon as i login and click on profile button it gets logged out... Have tried uninstalling the app and then start the process fresh but made no sense...please fix this                                                                                                                                                                                                                                                                                                                      | trying update profile logging soon login click profile button get logged tried uninstalling app start process fresh made senseplease fix                                                                                                                                                                                                                                                           | ['trying', 'update', 'profile', 'logging', 'soon', 'login', 'click', 'profile', 'button', 'get', 'logged', 'tried', 'uninstalling', 'app', 'start', 'process', 'fresh', 'made', 'senseplease', 'fix']                                                                                                                                                                                                                                                                                                                                                                                                       | en         | Trying to update my profile after logging in... But as soon as i login and click on profile button it gets logged out... Have tried uninstalling the app and then start the process fresh but made no sense...please fix this                                                                                                                                                                                                                                                                                                                      | trying update profile logging soon login click profile button get logged tried uninstalling app start process fresh made senseplease fix                                                                                                                                                                                                                                                           |\n",
      "| Nice                                                                                                                                                                                                                                                                                                                                                                                                                                                                                                                                               | nice                                                                                                                                                                                                                                                                                                                                                                                               | ['nice']                                                                                                                                                                                                                                                                                                                                                                                                                                                                                                                                                                                                    | en         | Nice                                                                                                                                                                                                                                                                                                                                                                                                                                                                                                                                               | nice                                                                                                                                                                                                                                                                                                                                                                                               |\n",
      "| Love this app                                                                                                                                                                                                                                                                                                                                                                                                                                                                                                                                      | love app                                                                                                                                                                                                                                                                                                                                                                                           | ['love', 'app']                                                                                                                                                                                                                                                                                                                                                                                                                                                                                                                                                                                             | en         | Love this app                                                                                                                                                                                                                                                                                                                                                                                                                                                                                                                                      | love app                                                                                                                                                                                                                                                                                                                                                                                           |\n",
      "| Bad app. No respond on support tickets, it only shows trading strategies but there is no response from them. Didn't received a single profitable trade from past 3 months.                                                                                                                                                                                                                                                                                                                                                                         | bad app respond support ticket show trading strategy response didnt received single profitable trade past month                                                                                                                                                                                                                                                                                    | ['bad', 'app', 'respond', 'support', 'ticket', 'show', 'trading', 'strategy', 'response', 'didnt', 'received', 'single', 'profitable', 'trade', 'past', 'month']                                                                                                                                                                                                                                                                                                                                                                                                                                            | en         | Bad app. No respond on support tickets, it only shows trading strategies but there is no response from them. Didn't received a single profitable trade from past 3 months.                                                                                                                                                                                                                                                                                                                                                                         | bad app respond support ticket show trading strategy response didnt received single profitable trade past month                                                                                                                                                                                                                                                                                    |\n",
      "| It has user-friendly interface. It offers traders to use advanced trading tools. A Game-Changer for Crypto Trading! It offers a unique concept and provides an engaging user experience. ShibaSolv made it easy to connect with other traders and collaborate on strategies which will benefit us.                                                                                                                                                                                                                                                 | userfriendly interface offer trader use advanced trading tool gamechanger crypto trading offer unique concept provides engaging user experience shibasolv made easy connect trader collaborate strategy benefit                                                                                                                                                                                    | ['userfriendly', 'interface', 'offer', 'trader', 'use', 'advanced', 'trading', 'tool', 'gamechanger', 'crypto', 'trading', 'offer', 'unique', 'concept', 'provides', 'engaging', 'user', 'experience', 'shibasolv', 'made', 'easy', 'connect', 'trader', 'collaborate', 'strategy', 'benefit']                                                                                                                                                                                                                                                                                                              | en         | It has user-friendly interface. It offers traders to use advanced trading tools. A Game-Changer for Crypto Trading! It offers a unique concept and provides an engaging user experience. ShibaSolv made it easy to connect with other traders and collaborate on strategies which will benefit us.                                                                                                                                                                                                                                                 | userfriendly interface offer trader use advanced trading tool gamechanger crypto trading offer unique concept provides engaging user experience shibasolv made easy connect trader collaborate strategy benefit                                                                                                                                                                                    |\n",
      "| It is the best app for starting your career as a crypto trader 👍 The most trustworthy and easy to handle. Great experience.                                                                                                                                                                                                                                                                                                                                                                                                                       | best app starting career crypto trader trustworthy easy handle great experience                                                                                                                                                                                                                                                                                                                    | ['best', 'app', 'starting', 'career', 'crypto', 'trader', 'trustworthy', 'easy', 'handle', 'great', 'experience']                                                                                                                                                                                                                                                                                                                                                                                                                                                                                           | en         | It is the best app for starting your career as a crypto trader 👍 The most trustworthy and easy to handle. Great experience.                                                                                                                                                                                                                                                                                                                                                                                                                       | best app starting career crypto trader trustworthy easy handle great experience                                                                                                                                                                                                                                                                                                                    |\n",
      "| Nooo!!!..my balance is not increasing on your app even after sync ... updating the app...after doing sign in nd sign out also nothing happened....and yaaa not even received one profitable trade also                                                                                                                                                                                                                                                                                                                                             | nooomy balance increasing app even sync updating appafter sign sign also nothing happenedand yaaa even received one profitable trade also                                                                                                                                                                                                                                                          | ['nooomy', 'balance', 'increasing', 'app', 'even', 'sync', 'updating', 'appafter', 'sign', 'sign', 'also', 'nothing', 'happenedand', 'yaaa', 'even', 'received', 'one', 'profitable', 'trade', 'also']                                                                                                                                                                                                                                                                                                                                                                                                      | en         | Nooo!!!..my balance is not increasing on your app even after sync ... updating the app...after doing sign in nd sign out also nothing happened....and yaaa not even received one profitable trade also                                                                                                                                                                                                                                                                                                                                             | nooomy balance increasing app even sync updating appafter sign sign also nothing happenedand yaaa even received one profitable trade also                                                                                                                                                                                                                                                          |\n",
      "| Bestest app i ever used, giving lots of trading opportunities n very easy to used n i really loved it, thank you so much ShibaSolv💜💜and very useful for the crypto traders. easy to download the app from the link in their bio and easy to sign up and create profile and create trades and get profit in our wallet.                                                                                                                                                                                                                           | bestest app ever used giving lot trading opportunity easy used really loved thank much shibasolvand useful crypto trader easy download app link bio easy sign create profile create trade get profit wallet                                                                                                                                                                                        | ['bestest', 'app', 'ever', 'used', 'giving', 'lot', 'trading', 'opportunity', 'easy', 'used', 'really', 'loved', 'thank', 'much', 'shibasolvand', 'useful', 'crypto', 'trader', 'easy', 'download', 'app', 'link', 'bio', 'easy', 'sign', 'create', 'profile', 'create', 'trade', 'get', 'profit', 'wallet']                                                                                                                                                                                                                                                                                                | en         | Bestest app i ever used, giving lots of trading opportunities n very easy to used n i really loved it, thank you so much ShibaSolv💜💜and very useful for the crypto traders. easy to download the app from the link in their bio and easy to sign up and create profile and create trades and get profit in our wallet.                                                                                                                                                                                                                           | bestest app ever used giving lot trading opportunity easy used really loved thank much shibasolvand useful crypto trader easy download app link bio easy sign create profile create trade get profit wallet                                                                                                                                                                                        |\n",
      "| Nice provide all type of trading strategies                                                                                                                                                                                                                                                                                                                                                                                                                                                                                                        | nice provide type trading strategy                                                                                                                                                                                                                                                                                                                                                                 | ['nice', 'provide', 'type', 'trading', 'strategy']                                                                                                                                                                                                                                                                                                                                                                                                                                                                                                                                                          | en         | Nice provide all type of trading strategies                                                                                                                                                                                                                                                                                                                                                                                                                                                                                                        | nice provide type trading strategy                                                                                                                                                                                                                                                                                                                                                                 |\n",
      "| No matter how many times i try to connect my wallet it always show 106 error                                                                                                                                                                                                                                                                                                                                                                                                                                                                       | matter many time try connect wallet always show error                                                                                                                                                                                                                                                                                                                                              | ['matter', 'many', 'time', 'try', 'connect', 'wallet', 'always', 'show', 'error']                                                                                                                                                                                                                                                                                                                                                                                                                                                                                                                           | en         | No matter how many times i try to connect my wallet it always show 106 error                                                                                                                                                                                                                                                                                                                                                                                                                                                                       | matter many time try connect wallet always show error                                                                                                                                                                                                                                                                                                                                              |\n",
      "| Need to improve app because the balance not updating in ShibaSolv they are showing the same balance when i created account.                                                                                                                                                                                                                                                                                                                                                                                                                        | need improve app balance updating shibasolv showing balance created account                                                                                                                                                                                                                                                                                                                        | ['need', 'improve', 'app', 'balance', 'updating', 'shibasolv', 'showing', 'balance', 'created', 'account']                                                                                                                                                                                                                                                                                                                                                                                                                                                                                                  | en         | Need to improve app because the balance not updating in ShibaSolv they are showing the same balance when i created account.                                                                                                                                                                                                                                                                                                                                                                                                                        | need improve app balance updating shibasolv showing balance created account                                                                                                                                                                                                                                                                                                                        |\n",
      "| The support team doesn't gives the approval it's a fake app I guess                                                                                                                                                                                                                                                                                                                                                                                                                                                                                | support team doesnt give approval fake app guess                                                                                                                                                                                                                                                                                                                                                   | ['support', 'team', 'doesnt', 'give', 'approval', 'fake', 'app', 'guess']                                                                                                                                                                                                                                                                                                                                                                                                                                                                                                                                   | en         | The support team doesn't gives the approval it's a fake app I guess                                                                                                                                                                                                                                                                                                                                                                                                                                                                                | support team doesnt give approval fake app guess                                                                                                                                                                                                                                                                                                                                                   |\n",
      "| Best app for crypto trading, Best team support, very helpful team                                                                                                                                                                                                                                                                                                                                                                                                                                                                                  | best app crypto trading best team support helpful team                                                                                                                                                                                                                                                                                                                                             | ['best', 'app', 'crypto', 'trading', 'best', 'team', 'support', 'helpful', 'team']                                                                                                                                                                                                                                                                                                                                                                                                                                                                                                                          | en         | Best app for crypto trading, Best team support, very helpful team                                                                                                                                                                                                                                                                                                                                                                                                                                                                                  | best app crypto trading best team support helpful team                                                                                                                                                                                                                                                                                                                                             |\n",
      "| It is a helpful app for traders and investors to grow and manage their portfolio This app helps traders in growing and getting wonderful trading opportunities, in giving tips and tricks regarding the trading strategies and how to work, etc.                                                                                                                                                                                                                                                                                                   | helpful app trader investor grow manage portfolio app help trader growing getting wonderful trading opportunity giving tip trick regarding trading strategy work etc                                                                                                                                                                                                                               | ['helpful', 'app', 'trader', 'investor', 'grow', 'manage', 'portfolio', 'app', 'help', 'trader', 'growing', 'getting', 'wonderful', 'trading', 'opportunity', 'giving', 'tip', 'trick', 'regarding', 'trading', 'strategy', 'work', 'etc']                                                                                                                                                                                                                                                                                                                                                                  | en         | It is a helpful app for traders and investors to grow and manage their portfolio This app helps traders in growing and getting wonderful trading opportunities, in giving tips and tricks regarding the trading strategies and how to work, etc.                                                                                                                                                                                                                                                                                                   | helpful app trader investor grow manage portfolio app help trader growing getting wonderful trading opportunity giving tip trick regarding trading strategy work etc                                                                                                                                                                                                                               |\n",
      "| This app is best                                                                                                                                                                                                                                                                                                                                                                                                                                                                                                                                   | app best                                                                                                                                                                                                                                                                                                                                                                                           | ['app', 'best']                                                                                                                                                                                                                                                                                                                                                                                                                                                                                                                                                                                             | en         | This app is best                                                                                                                                                                                                                                                                                                                                                                                                                                                                                                                                   | app best                                                                                                                                                                                                                                                                                                                                                                                           |\n",
      "| Very helpful yess I recommend it to my family members                                                                                                                                                                                                                                                                                                                                                                                                                                                                                              | helpful yes recommend family member                                                                                                                                                                                                                                                                                                                                                                | ['helpful', 'yes', 'recommend', 'family', 'member']                                                                                                                                                                                                                                                                                                                                                                                                                                                                                                                                                         | en         | Very helpful yess I recommend it to my family members                                                                                                                                                                                                                                                                                                                                                                                                                                                                                              | helpful yes recommend family member                                                                                                                                                                                                                                                                                                                                                                |\n",
      "| Wow, it is a great app for the trader who want to do advanced trading, this app gives everyone chance to experience advanced trading features... It's very easy to use and I want to say every crypto enthusiast must have to use this app.. thanku                                                                                                                                                                                                                                                                                                | wow great app trader want advanced trading app give everyone chance experience advanced trading feature easy use want say every crypto enthusiast must use app thanku                                                                                                                                                                                                                              | ['wow', 'great', 'app', 'trader', 'want', 'advanced', 'trading', 'app', 'give', 'everyone', 'chance', 'experience', 'advanced', 'trading', 'feature', 'easy', 'use', 'want', 'say', 'every', 'crypto', 'enthusiast', 'must', 'use', 'app', 'thanku']                                                                                                                                                                                                                                                                                                                                                        | en         | Wow, it is a great app for the trader who want to do advanced trading, this app gives everyone chance to experience advanced trading features... It's very easy to use and I want to say every crypto enthusiast must have to use this app.. thanku                                                                                                                                                                                                                                                                                                | wow great app trader want advanced trading app give everyone chance experience advanced trading feature easy use want say every crypto enthusiast must use app thanku                                                                                                                                                                                                                              |\n",
      "| No respond from any support ticket                                                                                                                                                                                                                                                                                                                                                                                                                                                                                                                 | respond support ticket                                                                                                                                                                                                                                                                                                                                                                             | ['respond', 'support', 'ticket']                                                                                                                                                                                                                                                                                                                                                                                                                                                                                                                                                                            | en         | No respond from any support ticket                                                                                                                                                                                                                                                                                                                                                                                                                                                                                                                 | respond support ticket                                                                                                                                                                                                                                                                                                                                                                             |\n",
      "| Wasted my time... 2 months and not even a single profitable trade. I also raised an issue that I'm having trouble in connecting my exchange to the app.. they asked me to send them a message on their Instagram.. I did but they did nothing about my issue.. they read and left the message like that.                                                                                                                                                                                                                                           | wasted time month even single profitable trade also raised issue trouble connecting exchange app asked send message instagram nothing issue read left message like                                                                                                                                                                                                                                 | ['wasted', 'time', 'month', 'even', 'single', 'profitable', 'trade', 'also', 'raised', 'issue', 'trouble', 'connecting', 'exchange', 'app', 'asked', 'send', 'message', 'instagram', 'nothing', 'issue', 'read', 'left', 'message', 'like']                                                                                                                                                                                                                                                                                                                                                                 | en         | Wasted my time... 2 months and not even a single profitable trade. I also raised an issue that I'm having trouble in connecting my exchange to the app.. they asked me to send them a message on their Instagram.. I did but they did nothing about my issue.. they read and left the message like that.                                                                                                                                                                                                                                           | wasted time month even single profitable trade also raised issue trouble connecting exchange app asked send message instagram nothing issue read left message like                                                                                                                                                                                                                                 |\n",
      "| My balance has not been updated for a month.                                                                                                                                                                                                                                                                                                                                                                                                                                                                                                       | balance updated month                                                                                                                                                                                                                                                                                                                                                                              | ['balance', 'updated', 'month']                                                                                                                                                                                                                                                                                                                                                                                                                                                                                                                                                                             | en         | My balance has not been updated for a month.                                                                                                                                                                                                                                                                                                                                                                                                                                                                                                       | balance updated month                                                                                                                                                                                                                                                                                                                                                                              |\n",
      "| This is good for traders                                                                                                                                                                                                                                                                                                                                                                                                                                                                                                                           | good trader                                                                                                                                                                                                                                                                                                                                                                                        | ['good', 'trader']                                                                                                                                                                                                                                                                                                                                                                                                                                                                                                                                                                                          | en         | This is good for traders                                                                                                                                                                                                                                                                                                                                                                                                                                                                                                                           | good trader                                                                                                                                                                                                                                                                                                                                                                                        |\n",
      "| BEST APP EVER, VERY NICE PLATFORM, LOTS OF TRADING OPPORTUNITIES                                                                                                                                                                                                                                                                                                                                                                                                                                                                                   | best app ever nice platform lot trading opportunity                                                                                                                                                                                                                                                                                                                                                | ['best', 'app', 'ever', 'nice', 'platform', 'lot', 'trading', 'opportunity']                                                                                                                                                                                                                                                                                                                                                                                                                                                                                                                                | en         | BEST APP EVER, VERY NICE PLATFORM, LOTS OF TRADING OPPORTUNITIES                                                                                                                                                                                                                                                                                                                                                                                                                                                                                   | best app ever nice platform lot trading opportunity                                                                                                                                                                                                                                                                                                                                                |\n",
      "| Hii You're reading this i really want to reveal the truth about SHIBASOLV. It's an amazing application of this generation. And I have been using this app from 4-5 months and I had a really good time with them. It has provided me with profitable trading opportunities. And it's one of the best platforms for Crypto Traders.                                                                                                                                                                                                                 | hii youre reading really want reveal truth shibasolv amazing application generation using app month really good time provided profitable trading opportunity one best platform crypto trader                                                                                                                                                                                                       | ['hii', 'youre', 'reading', 'really', 'want', 'reveal', 'truth', 'shibasolv', 'amazing', 'application', 'generation', 'using', 'app', 'month', 'really', 'good', 'time', 'provided', 'profitable', 'trading', 'opportunity', 'one', 'best', 'platform', 'crypto', 'trader']                                                                                                                                                                                                                                                                                                                                 | en         | Hii You're reading this i really want to reveal the truth about SHIBASOLV. It's an amazing application of this generation. And I have been using this app from 4-5 months and I had a really good time with them. It has provided me with profitable trading opportunities. And it's one of the best platforms for Crypto Traders.                                                                                                                                                                                                                 | hii youre reading really want reveal truth shibasolv amazing application generation using app month really good time provided profitable trading opportunity one best platform crypto trader                                                                                                                                                                                                       |\n",
      "| Best crypto trading app                                                                                                                                                                                                                                                                                                                                                                                                                                                                                                                            | best crypto trading app                                                                                                                                                                                                                                                                                                                                                                            | ['best', 'crypto', 'trading', 'app']                                                                                                                                                                                                                                                                                                                                                                                                                                                                                                                                                                        | en         | Best crypto trading app                                                                                                                                                                                                                                                                                                                                                                                                                                                                                                                            | best crypto trading app                                                                                                                                                                                                                                                                                                                                                                            |\n",
      "| Bahut hi vdiya app hai chote mote traders ko bi invest krne ka moka deta hai aur earn krne ka jisse jo new crypto enthusiast hai mere jaise unko moka milta hai aur ummed jagti hai but minimum investment thoda kam hota to aur jada better hota aur jo experienced trader hai usko beginner wale bi features show hote hai bi nhi hone chahye jab experience level dal hi rhe hai to jo bo apply kar skta hai whi show kre usko sort krke                                                                                                        | This is a very video app, it gives small traders an opportunity to invest and earn, new crypto enthusiasts like me get the opportunity and hope arises, the minimum investment is a little less and more is better and if he is an experienced trader, he gets shown the beginner features, he should not get them, when he is entering the experience level, he can apply, show that and sort it. | ['bahut', 'vdiya', 'app', 'hai', 'chote', 'mote', 'trader', 'invest', 'krne', 'moka', 'deta', 'hai', 'aur', 'earn', 'krne', 'jisse', 'new', 'crypto', 'enthusiast', 'hai', 'mere', 'jaise', 'unko', 'moka', 'milta', 'hai', 'aur', 'ummed', 'jagti', 'hai', 'minimum', 'investment', 'thoda', 'kam', 'hota', 'aur', 'jada', 'better', 'hota', 'aur', 'experienced', 'trader', 'hai', 'usko', 'beginner', 'wale', 'feature', 'show', 'hote', 'hai', 'nhi', 'hone', 'chahye', 'jab', 'experience', 'level', 'dal', 'rhe', 'hai', 'apply', 'kar', 'skta', 'hai', 'whi', 'show', 'kre', 'usko', 'sort', 'krke'] | hi         | It is a very video app, it gives opportunity to small traders as well to invest and earn, new crypto enthusiasts like me get the opportunity and hope is awakened but if the minimum investment is a little less it would be better and for the experienced traders, they should not get the features which are shown to beginners also, when the experience level is being added then show only those who can apply after sorting them                                                                                                            | This is a very video app, it gives small traders an opportunity to invest and earn, new crypto enthusiasts like me get the opportunity and hope arises, the minimum investment is a little less and more is better and if he is an experienced trader, he gets shown the beginner features, he should not get them, when he is entering the experience level, he can apply, show that and sort it. |\n",
      "| Exchange API key. hey I'm unable to add my exchange API key. whenever i add it's telling wrong. plz tell me how to add exchange API key and where I can find.                                                                                                                                                                                                                                                                                                                                                                                      | exchange api key hey unable to add exchange api key whenever add telling wrong plz tell add exchange api key find                                                                                                                                                                                                                                                                                  | ['exchange', 'api', 'key', 'hey', 'unable', 'add', 'exchange', 'api', 'key', 'whenever', 'add', 'telling', 'wrong', 'plz', 'tell', 'add', 'exchange', 'api', 'key', 'find']                                                                                                                                                                                                                                                                                                                                                                                                                                 | hi         | Exchange API key. hey I'm unable to add my exchange API key. Whenever I add it, it's telling me it's wrong. plz tell me how to add exchange API key and where I can find it.                                                                                                                                                                                                                                                                                                                                                                       | exchange api key hey unable to add exchange api key whenever add telling wrong plz tell add exchange api key find                                                                                                                                                                                                                                                                                  |\n",
      "| I have been trying to use so many features and not even a single one works properly. Neither the app is that gud to use like it's very basic.. no help centre.. no way to get info on the transactions.. no progress shown.. just a big waste app I feel 🥱                                                                                                                                                                                                                                                                                        | trying use many feature even single one work properly neither app gud use like basic help centre way get info transaction progress shown big waste app feel                                                                                                                                                                                                                                        | ['trying', 'use', 'many', 'feature', 'even', 'single', 'one', 'work', 'properly', 'neither', 'app', 'gud', 'use', 'like', 'basic', 'help', 'centre', 'way', 'get', 'info', 'transaction', 'progress', 'shown', 'big', 'waste', 'app', 'feel']                                                                                                                                                                                                                                                                                                                                                               | hi         | I have been trying to use so many features and not even a single one works properly. Neither the app is that gud to use like it's very basic.. no help centre.. no way to get info on the transactions.. no progress shown.. just a big waste app I feel 🥱                                                                                                                                                                                                                                                                                        | trying use many feature even single one work properly neither app gud use like basic help centre way get info transaction progress shown big waste app feel                                                                                                                                                                                                                                        |\n",
      "| I am trying to login but I am not able to login even though the password and email are all correct. but still I am not able to login. this app have so much glitches. please fix the bugs of this app.                                                                                                                                                                                                                                                                                                                                             | trying login able login even though password email correct still able login app much glitch please fix bug app                                                                                                                                                                                                                                                                                     | ['trying', 'login', 'able', 'login', 'even', 'though', 'password', 'email', 'correct', 'still', 'able', 'login', 'app', 'much', 'glitch', 'please', 'fix', 'bug', 'app']                                                                                                                                                                                                                                                                                                                                                                                                                                    | hi         | I am trying to login but I am not able to login even though the password and email are all correct. but still I am not able to login. This app has so many glitches. please fix the bugs of this app.                                                                                                                                                                                                                                                                                                                                              | trying login able login even though password email correct still able login app much glitch please fix bug app                                                                                                                                                                                                                                                                                     |\n",
      "| It is a very good app and easier to manage crypto, all at one place as per your choice.                                                                                                                                                                                                                                                                                                                                                                                                                                                            | good app easier manage crypto one place per choice                                                                                                                                                                                                                                                                                                                                                 | ['good', 'app', 'easier', 'manage', 'crypto', 'one', 'place', 'per', 'choice']                                                                                                                                                                                                                                                                                                                                                                                                                                                                                                                              | hi         | It is a very good app and easier to manage crypto, all at one place as per your choice.                                                                                                                                                                                                                                                                                                                                                                                                                                                            | good app easier manage crypto one place per choice                                                                                                                                                                                                                                                                                                                                                 |\n",
      "| Woww what a stupid app. I have more than $80K worth of crypto in my wallet. I saw this add and thought to download this app but wait a minute what I found, all the positive reviews are fake lol . How can you just buy reviews? Oh gosh. What a nonsense way to fool people. It's definitely a scam . I would post on my social media to aware people about this app. Hahha scammers .                                                                                                                                                           | woww stupid app worth crypto wallet saw add thought download app wait minute found positive review fake lol buy review gosh nonsense way fool people definitely scam would post social medium aware people app hahha scammer                                                                                                                                                                       | ['woww', 'stupid', 'app', 'worth', 'crypto', 'wallet', 'saw', 'add', 'thought', 'download', 'app', 'wait', 'minute', 'found', 'positive', 'review', 'fake', 'lol', 'buy', 'review', 'gosh', 'nonsense', 'way', 'fool', 'people', 'definitely', 'scam', 'would', 'post', 'social', 'medium', 'aware', 'people', 'app', 'hahha', 'scammer']                                                                                                                                                                                                                                                                   | hi         | Wow what a stupid app. I have more than $80K worth of crypto in my wallet. I saw this add and thought to download this app but wait a minute what I found, all the positive reviews are fake lol. How can you just buy reviews? Oh gosh. What a nonsense way to fool people. It is definitely a scam. I would post on my social media to make people aware about this app. Hahha scammers.                                                                                                                                                         | woww stupid app worth crypto wallet saw add thought download app wait minute found positive review fake lol buy review gosh nonsense way fool people definitely scam would post social medium aware people app hahha scammer                                                                                                                                                                       |\n",
      "| Best app I ever seen in my life, and they provide best trading strategies to users, as I'm a trader I like their service and customer support you guys must try this app.                                                                                                                                                                                                                                                                                                                                                                          | best app ever seen life provide best trading strategy user trader like service customer support guy must try app                                                                                                                                                                                                                                                                                   | ['best', 'app', 'ever', 'seen', 'life', 'provide', 'best', 'trading', 'strategy', 'user', 'trader', 'like', 'service', 'customer', 'support', 'guy', 'must', 'try', 'app']                                                                                                                                                                                                                                                                                                                                                                                                                                  | hi         | Best app I ever seen in my life, and they provide best trading strategies to users, as I'm a trader I like their service and customer support you guys must try this app.                                                                                                                                                                                                                                                                                                                                                                          | best app ever seen life provide best trading strategy user trader like service customer support guy must try app                                                                                                                                                                                                                                                                                   |\n",
      "| Best app I love this app 🌹🌹🌹                                                                                                                                                                                                                                                                                                                                                                                                                                                                                                                    | best app love app                                                                                                                                                                                                                                                                                                                                                                                  | ['best', 'app', 'love', 'app']                                                                                                                                                                                                                                                                                                                                                                                                                                                                                                                                                                              | hi         | Best app I love this app 🌹🌹🌹                                                                                                                                                                                                                                                                                                                                                                                                                                                                                                                    | best app love app                                                                                                                                                                                                                                                                                                                                                                                  |\n",
      "| My journey starts with ShibaSolv in first trade...when I finish this trade then I put my review about this app. abhi tak koi trade nahi kiya hai..only 1 strategy apply Kiya hai...but abhi tak under process chal raha hai..                                                                                                                                                                                                                                                                                                                      | journey start shibasolv first tradewhen finish trade put review app till now i have not done any trade i have applied the strategy but the process is still going on                                                                                                                                                                                                                               | ['journey', 'start', 'shibasolv', 'first', 'tradewhen', 'finish', 'trade', 'put', 'review', 'app', 'abhi', 'tak', 'koi', 'trade', 'nahi', 'kiya', 'haionly', 'strategy', 'apply', 'kiya', 'haibut', 'abhi', 'tak', 'process', 'chal', 'raha', 'hai']                                                                                                                                                                                                                                                                                                                                                        | hi         | My journey starts with ShibaSolv in first trade…when I finish this trade then I put my review about this app. I have not made any trade yet..only applied 1 strategy...but the process is still going on..                                                                                                                                                                                                                                                                                                                                         | journey start shibasolv first tradewhen finish trade put review app till now i have not done any trade i have applied the strategy but the process is still going on                                                                                                                                                                                                                               |\n",
      "| Waste of time and Worst app I don't get any profitable trade with app frm last 2 month. Even app does not work properly. Worst app.                                                                                                                                                                                                                                                                                                                                                                                                                | waste time worst app dont get profitable trade app frm last month even app work properly worst app                                                                                                                                                                                                                                                                                                 | ['waste', 'time', 'worst', 'app', 'dont', 'get', 'profitable', 'trade', 'app', 'frm', 'last', 'month', 'even', 'app', 'work', 'properly', 'worst', 'app']                                                                                                                                                                                                                                                                                                                                                                                                                                                   | hi         | Waste of time and worst app I don't get any profitable trade with the app frm last 2 month. Even the app doesn't work properly. Worst app.                                                                                                                                                                                                                                                                                                                                                                                                         | waste time worst app dont get profitable trade app frm last month even app work properly worst app                                                                                                                                                                                                                                                                                                 |\n",
      "| Bekar app h 1 month se uper hogya h but ek bhi profitable trade nhi mila, mene bahut Sara aply kr dya but 1 bhi profit Mila 😡😂                                                                                                                                                                                                                                                                                                                                                                                                                   | Useless app, even though it was a month over I did not get any profitable trade, I applied a lot and still got profit                                                                                                                                                                                                                                                                              | ['bekar', 'app', 'month', 'uper', 'hogya', 'bhi', 'profitable', 'trade', 'nhi', 'mila', 'mene', 'bahut', 'sara', 'aply', 'dya', 'bhi', 'profit', 'mila']                                                                                                                                                                                                                                                                                                                                                                                                                                                    | hi         | This is a useless app, it has been more than 1 month but I have not got a single profitable trade, I applied a lot but did not get even one profit 😡😂                                                                                                                                                                                                                                                                                                                                                                                            | Useless app, even though it was a month over I did not get any profitable trade, I applied a lot and still got profit                                                                                                                                                                                                                                                                              |\n",
      "| Not much useful for most of traders and the app ask for review itself with five star rating, so most of the reviews are fake.                                                                                                                                                                                                                                                                                                                                                                                                                      | very useful trader app ask review five star rating review fake                                                                                                                                                                                                                                                                                                                                     | ['much', 'useful', 'trader', 'app', 'ask', 'review', 'five', 'star', 'rating', 'review', 'fake']                                                                                                                                                                                                                                                                                                                                                                                                                                                                                                            | hi         | Not much useful for most of traders and the app ask for review itself with five star rating, so most of the reviews are fake.                                                                                                                                                                                                                                                                                                                                                                                                                      | very useful trader app ask review five star rating review fake                                                                                                                                                                                                                                                                                                                                     |\n"
     ]
    }
   ],
   "source": [
    "print(df.tail(50).to_markdown(index=False, numalign=\"left\", stralign=\"left\"))\n"
   ]
  },
  {
   "cell_type": "code",
   "execution_count": 95,
   "metadata": {},
   "outputs": [],
   "source": [
    "# #Initialize OpenAI Client\n",
    "# client = OpenAI()\n"
   ]
  },
  {
   "cell_type": "code",
   "execution_count": 96,
   "metadata": {},
   "outputs": [],
   "source": [
    "# # @retry(wait=wait_random_exponential(min=1, max=20), stop=stop_after_attempt(6))\n",
    "# def get_sentiment_and_summary(review_text):\n",
    "#     response = client.chat.completions.create(\n",
    "#         model=\"gpt-3.5-turbo\",\n",
    "#         messages=[\n",
    "#             {\"role\": \"system\", \"content\": \"You are a helpful assistant.\"},\n",
    "#             {\"role\": \"user\", \"content\": f\"Analyze the sentiment of this app review and summarize its key points in a few words:\\n{review_text}\"}\n",
    "#         ],\n",
    "#         max_tokens=30\n",
    "#     )\n",
    "#     summary = response.choices[0].message['content'].strip()\n",
    "#     sentiment = TextBlob(summary).sentiment.polarity\n",
    "#     return sentiment, summary\n",
    "\n",
    "# # Apply the function to the DataFrame\n",
    "# df[['sentiment', 'summary']] = df['clean_reviews'].apply(lambda x: pd.Series(get_sentiment_and_summary(x)))\n"
   ]
  },
  {
   "cell_type": "code",
   "execution_count": 97,
   "metadata": {},
   "outputs": [],
   "source": [
    "# Summarization\n",
    "summarization_pipeline = pipeline(\"summarization\", model=\"facebook/bart-large-cnn\") \n"
   ]
  },
  {
   "cell_type": "code",
   "execution_count": 98,
   "metadata": {},
   "outputs": [
    {
     "data": {
      "application/vnd.jupyter.widget-view+json": {
       "model_id": "df326235e2c44593bf628990f491ce08",
       "version_major": 2,
       "version_minor": 0
      },
      "text/plain": [
       "  0%|          | 0/100 [00:00<?, ?it/s]"
      ]
     },
     "metadata": {},
     "output_type": "display_data"
    },
    {
     "name": "stderr",
     "output_type": "stream",
     "text": [
      "Your max_length is set to 30, but your input_length is only 27. Since this is a summarization task, where outputs shorter than the input are typically wanted, you might consider decreasing max_length manually, e.g. summarizer('...', max_length=13)\n",
      "Your max_length is set to 30, but your input_length is only 13. Since this is a summarization task, where outputs shorter than the input are typically wanted, you might consider decreasing max_length manually, e.g. summarizer('...', max_length=6)\n",
      "Your max_length is set to 30, but your input_length is only 12. Since this is a summarization task, where outputs shorter than the input are typically wanted, you might consider decreasing max_length manually, e.g. summarizer('...', max_length=6)\n",
      "Your max_length is set to 30, but your input_length is only 23. Since this is a summarization task, where outputs shorter than the input are typically wanted, you might consider decreasing max_length manually, e.g. summarizer('...', max_length=11)\n",
      "Your max_length is set to 30, but your input_length is only 8. Since this is a summarization task, where outputs shorter than the input are typically wanted, you might consider decreasing max_length manually, e.g. summarizer('...', max_length=4)\n",
      "Your max_length is set to 30, but your input_length is only 16. Since this is a summarization task, where outputs shorter than the input are typically wanted, you might consider decreasing max_length manually, e.g. summarizer('...', max_length=8)\n",
      "Your max_length is set to 30, but your input_length is only 10. Since this is a summarization task, where outputs shorter than the input are typically wanted, you might consider decreasing max_length manually, e.g. summarizer('...', max_length=5)\n",
      "Your max_length is set to 30, but your input_length is only 5. Since this is a summarization task, where outputs shorter than the input are typically wanted, you might consider decreasing max_length manually, e.g. summarizer('...', max_length=2)\n",
      "Your max_length is set to 30, but your input_length is only 15. Since this is a summarization task, where outputs shorter than the input are typically wanted, you might consider decreasing max_length manually, e.g. summarizer('...', max_length=7)\n",
      "Your max_length is set to 30, but your input_length is only 6. Since this is a summarization task, where outputs shorter than the input are typically wanted, you might consider decreasing max_length manually, e.g. summarizer('...', max_length=3)\n",
      "Your max_length is set to 30, but your input_length is only 13. Since this is a summarization task, where outputs shorter than the input are typically wanted, you might consider decreasing max_length manually, e.g. summarizer('...', max_length=6)\n",
      "Your max_length is set to 30, but your input_length is only 12. Since this is a summarization task, where outputs shorter than the input are typically wanted, you might consider decreasing max_length manually, e.g. summarizer('...', max_length=6)\n",
      "Your max_length is set to 30, but your input_length is only 5. Since this is a summarization task, where outputs shorter than the input are typically wanted, you might consider decreasing max_length manually, e.g. summarizer('...', max_length=2)\n",
      "Your max_length is set to 30, but your input_length is only 10. Since this is a summarization task, where outputs shorter than the input are typically wanted, you might consider decreasing max_length manually, e.g. summarizer('...', max_length=5)\n",
      "Your max_length is set to 30, but your input_length is only 5. Since this is a summarization task, where outputs shorter than the input are typically wanted, you might consider decreasing max_length manually, e.g. summarizer('...', max_length=2)\n",
      "Your max_length is set to 30, but your input_length is only 17. Since this is a summarization task, where outputs shorter than the input are typically wanted, you might consider decreasing max_length manually, e.g. summarizer('...', max_length=8)\n",
      "Your max_length is set to 30, but your input_length is only 7. Since this is a summarization task, where outputs shorter than the input are typically wanted, you might consider decreasing max_length manually, e.g. summarizer('...', max_length=3)\n",
      "Your max_length is set to 30, but your input_length is only 7. Since this is a summarization task, where outputs shorter than the input are typically wanted, you might consider decreasing max_length manually, e.g. summarizer('...', max_length=3)\n",
      "Your max_length is set to 30, but your input_length is only 14. Since this is a summarization task, where outputs shorter than the input are typically wanted, you might consider decreasing max_length manually, e.g. summarizer('...', max_length=7)\n",
      "Your max_length is set to 30, but your input_length is only 12. Since this is a summarization task, where outputs shorter than the input are typically wanted, you might consider decreasing max_length manually, e.g. summarizer('...', max_length=6)\n",
      "Your max_length is set to 30, but your input_length is only 11. Since this is a summarization task, where outputs shorter than the input are typically wanted, you might consider decreasing max_length manually, e.g. summarizer('...', max_length=5)\n",
      "Your max_length is set to 30, but your input_length is only 10. Since this is a summarization task, where outputs shorter than the input are typically wanted, you might consider decreasing max_length manually, e.g. summarizer('...', max_length=5)\n",
      "Your max_length is set to 30, but your input_length is only 29. Since this is a summarization task, where outputs shorter than the input are typically wanted, you might consider decreasing max_length manually, e.g. summarizer('...', max_length=14)\n",
      "Your max_length is set to 30, but your input_length is only 4. Since this is a summarization task, where outputs shorter than the input are typically wanted, you might consider decreasing max_length manually, e.g. summarizer('...', max_length=2)\n",
      "Your max_length is set to 30, but your input_length is only 7. Since this is a summarization task, where outputs shorter than the input are typically wanted, you might consider decreasing max_length manually, e.g. summarizer('...', max_length=3)\n",
      "Your max_length is set to 30, but your input_length is only 19. Since this is a summarization task, where outputs shorter than the input are typically wanted, you might consider decreasing max_length manually, e.g. summarizer('...', max_length=9)\n",
      "Your max_length is set to 30, but your input_length is only 19. Since this is a summarization task, where outputs shorter than the input are typically wanted, you might consider decreasing max_length manually, e.g. summarizer('...', max_length=9)\n",
      "Your max_length is set to 30, but your input_length is only 29. Since this is a summarization task, where outputs shorter than the input are typically wanted, you might consider decreasing max_length manually, e.g. summarizer('...', max_length=14)\n",
      "Your max_length is set to 30, but your input_length is only 6. Since this is a summarization task, where outputs shorter than the input are typically wanted, you might consider decreasing max_length manually, e.g. summarizer('...', max_length=3)\n",
      "Your max_length is set to 30, but your input_length is only 3. Since this is a summarization task, where outputs shorter than the input are typically wanted, you might consider decreasing max_length manually, e.g. summarizer('...', max_length=1)\n",
      "Your max_length is set to 30, but your input_length is only 15. Since this is a summarization task, where outputs shorter than the input are typically wanted, you might consider decreasing max_length manually, e.g. summarizer('...', max_length=7)\n",
      "Your max_length is set to 30, but your input_length is only 6. Since this is a summarization task, where outputs shorter than the input are typically wanted, you might consider decreasing max_length manually, e.g. summarizer('...', max_length=3)\n",
      "Your max_length is set to 30, but your input_length is only 7. Since this is a summarization task, where outputs shorter than the input are typically wanted, you might consider decreasing max_length manually, e.g. summarizer('...', max_length=3)\n",
      "Your max_length is set to 30, but your input_length is only 15. Since this is a summarization task, where outputs shorter than the input are typically wanted, you might consider decreasing max_length manually, e.g. summarizer('...', max_length=7)\n",
      "Your max_length is set to 30, but your input_length is only 15. Since this is a summarization task, where outputs shorter than the input are typically wanted, you might consider decreasing max_length manually, e.g. summarizer('...', max_length=7)\n",
      "Your max_length is set to 30, but your input_length is only 11. Since this is a summarization task, where outputs shorter than the input are typically wanted, you might consider decreasing max_length manually, e.g. summarizer('...', max_length=5)\n",
      "Your max_length is set to 30, but your input_length is only 5. Since this is a summarization task, where outputs shorter than the input are typically wanted, you might consider decreasing max_length manually, e.g. summarizer('...', max_length=2)\n",
      "Your max_length is set to 30, but your input_length is only 14. Since this is a summarization task, where outputs shorter than the input are typically wanted, you might consider decreasing max_length manually, e.g. summarizer('...', max_length=7)\n",
      "Your max_length is set to 30, but your input_length is only 15. Since this is a summarization task, where outputs shorter than the input are typically wanted, you might consider decreasing max_length manually, e.g. summarizer('...', max_length=7)\n",
      "Your max_length is set to 30, but your input_length is only 11. Since this is a summarization task, where outputs shorter than the input are typically wanted, you might consider decreasing max_length manually, e.g. summarizer('...', max_length=5)\n",
      "Your max_length is set to 30, but your input_length is only 10. Since this is a summarization task, where outputs shorter than the input are typically wanted, you might consider decreasing max_length manually, e.g. summarizer('...', max_length=5)\n",
      "Your max_length is set to 30, but your input_length is only 17. Since this is a summarization task, where outputs shorter than the input are typically wanted, you might consider decreasing max_length manually, e.g. summarizer('...', max_length=8)\n",
      "Your max_length is set to 30, but your input_length is only 23. Since this is a summarization task, where outputs shorter than the input are typically wanted, you might consider decreasing max_length manually, e.g. summarizer('...', max_length=11)\n",
      "Your max_length is set to 30, but your input_length is only 4. Since this is a summarization task, where outputs shorter than the input are typically wanted, you might consider decreasing max_length manually, e.g. summarizer('...', max_length=2)\n",
      "Your max_length is set to 30, but your input_length is only 15. Since this is a summarization task, where outputs shorter than the input are typically wanted, you might consider decreasing max_length manually, e.g. summarizer('...', max_length=7)\n",
      "Your max_length is set to 30, but your input_length is only 18. Since this is a summarization task, where outputs shorter than the input are typically wanted, you might consider decreasing max_length manually, e.g. summarizer('...', max_length=9)\n",
      "Your max_length is set to 30, but your input_length is only 23. Since this is a summarization task, where outputs shorter than the input are typically wanted, you might consider decreasing max_length manually, e.g. summarizer('...', max_length=11)\n",
      "Your max_length is set to 30, but your input_length is only 6. Since this is a summarization task, where outputs shorter than the input are typically wanted, you might consider decreasing max_length manually, e.g. summarizer('...', max_length=3)\n",
      "Your max_length is set to 30, but your input_length is only 4. Since this is a summarization task, where outputs shorter than the input are typically wanted, you might consider decreasing max_length manually, e.g. summarizer('...', max_length=2)\n",
      "Your max_length is set to 30, but your input_length is only 16. Since this is a summarization task, where outputs shorter than the input are typically wanted, you might consider decreasing max_length manually, e.g. summarizer('...', max_length=8)\n",
      "Your max_length is set to 30, but your input_length is only 6. Since this is a summarization task, where outputs shorter than the input are typically wanted, you might consider decreasing max_length manually, e.g. summarizer('...', max_length=3)\n",
      "Your max_length is set to 30, but your input_length is only 18. Since this is a summarization task, where outputs shorter than the input are typically wanted, you might consider decreasing max_length manually, e.g. summarizer('...', max_length=9)\n",
      "Your max_length is set to 30, but your input_length is only 9. Since this is a summarization task, where outputs shorter than the input are typically wanted, you might consider decreasing max_length manually, e.g. summarizer('...', max_length=4)\n",
      "Your max_length is set to 30, but your input_length is only 11. Since this is a summarization task, where outputs shorter than the input are typically wanted, you might consider decreasing max_length manually, e.g. summarizer('...', max_length=5)\n",
      "Your max_length is set to 30, but your input_length is only 27. Since this is a summarization task, where outputs shorter than the input are typically wanted, you might consider decreasing max_length manually, e.g. summarizer('...', max_length=13)\n",
      "Your max_length is set to 30, but your input_length is only 17. Since this is a summarization task, where outputs shorter than the input are typically wanted, you might consider decreasing max_length manually, e.g. summarizer('...', max_length=8)\n",
      "Your max_length is set to 30, but your input_length is only 8. Since this is a summarization task, where outputs shorter than the input are typically wanted, you might consider decreasing max_length manually, e.g. summarizer('...', max_length=4)\n",
      "Your max_length is set to 30, but your input_length is only 25. Since this is a summarization task, where outputs shorter than the input are typically wanted, you might consider decreasing max_length manually, e.g. summarizer('...', max_length=12)\n",
      "Your max_length is set to 30, but your input_length is only 3. Since this is a summarization task, where outputs shorter than the input are typically wanted, you might consider decreasing max_length manually, e.g. summarizer('...', max_length=1)\n",
      "Your max_length is set to 30, but your input_length is only 4. Since this is a summarization task, where outputs shorter than the input are typically wanted, you might consider decreasing max_length manually, e.g. summarizer('...', max_length=2)\n",
      "Your max_length is set to 30, but your input_length is only 18. Since this is a summarization task, where outputs shorter than the input are typically wanted, you might consider decreasing max_length manually, e.g. summarizer('...', max_length=9)\n",
      "Your max_length is set to 30, but your input_length is only 13. Since this is a summarization task, where outputs shorter than the input are typically wanted, you might consider decreasing max_length manually, e.g. summarizer('...', max_length=6)\n",
      "Your max_length is set to 30, but your input_length is only 27. Since this is a summarization task, where outputs shorter than the input are typically wanted, you might consider decreasing max_length manually, e.g. summarizer('...', max_length=13)\n",
      "Your max_length is set to 30, but your input_length is only 7. Since this is a summarization task, where outputs shorter than the input are typically wanted, you might consider decreasing max_length manually, e.g. summarizer('...', max_length=3)\n",
      "Your max_length is set to 30, but your input_length is only 11. Since this is a summarization task, where outputs shorter than the input are typically wanted, you might consider decreasing max_length manually, e.g. summarizer('...', max_length=5)\n",
      "Your max_length is set to 30, but your input_length is only 16. Since this is a summarization task, where outputs shorter than the input are typically wanted, you might consider decreasing max_length manually, e.g. summarizer('...', max_length=8)\n",
      "Your max_length is set to 30, but your input_length is only 10. Since this is a summarization task, where outputs shorter than the input are typically wanted, you might consider decreasing max_length manually, e.g. summarizer('...', max_length=5)\n",
      "Your max_length is set to 30, but your input_length is only 11. Since this is a summarization task, where outputs shorter than the input are typically wanted, you might consider decreasing max_length manually, e.g. summarizer('...', max_length=5)\n",
      "Your max_length is set to 30, but your input_length is only 25. Since this is a summarization task, where outputs shorter than the input are typically wanted, you might consider decreasing max_length manually, e.g. summarizer('...', max_length=12)\n",
      "Your max_length is set to 30, but your input_length is only 4. Since this is a summarization task, where outputs shorter than the input are typically wanted, you might consider decreasing max_length manually, e.g. summarizer('...', max_length=2)\n",
      "Your max_length is set to 30, but your input_length is only 7. Since this is a summarization task, where outputs shorter than the input are typically wanted, you might consider decreasing max_length manually, e.g. summarizer('...', max_length=3)\n",
      "Your max_length is set to 30, but your input_length is only 29. Since this is a summarization task, where outputs shorter than the input are typically wanted, you might consider decreasing max_length manually, e.g. summarizer('...', max_length=14)\n",
      "Your max_length is set to 30, but your input_length is only 5. Since this is a summarization task, where outputs shorter than the input are typically wanted, you might consider decreasing max_length manually, e.g. summarizer('...', max_length=2)\n",
      "Your max_length is set to 30, but your input_length is only 27. Since this is a summarization task, where outputs shorter than the input are typically wanted, you might consider decreasing max_length manually, e.g. summarizer('...', max_length=13)\n",
      "Your max_length is set to 30, but your input_length is only 5. Since this is a summarization task, where outputs shorter than the input are typically wanted, you might consider decreasing max_length manually, e.g. summarizer('...', max_length=2)\n",
      "Your max_length is set to 30, but your input_length is only 4. Since this is a summarization task, where outputs shorter than the input are typically wanted, you might consider decreasing max_length manually, e.g. summarizer('...', max_length=2)\n",
      "Your max_length is set to 30, but your input_length is only 10. Since this is a summarization task, where outputs shorter than the input are typically wanted, you might consider decreasing max_length manually, e.g. summarizer('...', max_length=5)\n",
      "Your max_length is set to 30, but your input_length is only 6. Since this is a summarization task, where outputs shorter than the input are typically wanted, you might consider decreasing max_length manually, e.g. summarizer('...', max_length=3)\n",
      "Your max_length is set to 30, but your input_length is only 24. Since this is a summarization task, where outputs shorter than the input are typically wanted, you might consider decreasing max_length manually, e.g. summarizer('...', max_length=12)\n",
      "Your max_length is set to 30, but your input_length is only 21. Since this is a summarization task, where outputs shorter than the input are typically wanted, you might consider decreasing max_length manually, e.g. summarizer('...', max_length=10)\n",
      "Your max_length is set to 30, but your input_length is only 11. Since this is a summarization task, where outputs shorter than the input are typically wanted, you might consider decreasing max_length manually, e.g. summarizer('...', max_length=5)\n",
      "Your max_length is set to 30, but your input_length is only 21. Since this is a summarization task, where outputs shorter than the input are typically wanted, you might consider decreasing max_length manually, e.g. summarizer('...', max_length=10)\n",
      "Your max_length is set to 30, but your input_length is only 6. Since this is a summarization task, where outputs shorter than the input are typically wanted, you might consider decreasing max_length manually, e.g. summarizer('...', max_length=3)\n",
      "Your max_length is set to 30, but your input_length is only 21. Since this is a summarization task, where outputs shorter than the input are typically wanted, you might consider decreasing max_length manually, e.g. summarizer('...', max_length=10)\n",
      "Your max_length is set to 30, but your input_length is only 29. Since this is a summarization task, where outputs shorter than the input are typically wanted, you might consider decreasing max_length manually, e.g. summarizer('...', max_length=14)\n",
      "Your max_length is set to 30, but your input_length is only 13. Since this is a summarization task, where outputs shorter than the input are typically wanted, you might consider decreasing max_length manually, e.g. summarizer('...', max_length=6)\n"
     ]
    }
   ],
   "source": [
    "# df['summary'] = df['clean_reviews'].apply(lambda x: summarization_pipeline(x, max_length=30, min_length=10)[0]['summary_text']) \n",
    "tqdm.pandas()\n",
    "\n",
    "df['summary'] = df['clean_reviews'].progress_apply(lambda x: summarization_pipeline(x, max_length=30, min_length=10)[0]['summary_text'])"
   ]
  },
  {
   "cell_type": "code",
   "execution_count": 99,
   "metadata": {},
   "outputs": [
    {
     "name": "stdout",
     "output_type": "stream",
     "text": [
      "| summary                                                                                                                                                    |\n",
      "|:-----------------------------------------------------------------------------------------------------------------------------------------------------------|\n",
      "| Shibasolv app managing cryptocurrencies give lot opportunity one track investment improve trading strategy.                                                |\n",
      "| The worst application doesnt let connect wallet neither exchange account nothing work. Worst application lets you connect wallet but not exchange account. |\n",
      "| crypto portfolio worth close still cant find transaction connect wallet.                                                                                   |\n",
      "| playstore app say minimum investment needed to download open search trading feature.                                                                       |\n",
      "| Exchange owner shows app individual trader. exchange owner showing app individual traders.                                                                 |\n",
      "| The key is needed to connect to an exchange account connecting to the internet. We have tried many times to find the key but                               |\n",
      "| Shibasolv is an app that allows users to share photos and videos with friends. The app is available in English and Spanish                                 |\n",
      "| CNN.com will feature iReporter photos in a weekly Travel Snapshots gallery. Visit CNN.com/Travel each week for a                                           |\n",
      "| \"We have tried use many trading strategy didnt get single profitable trade month none work\" says one trader. \"We have used many trading                    |\n",
      "| Firm says it is working on a new version of its app. It says it has been experiencing problems with some of its features.                                  |\n"
     ]
    }
   ],
   "source": [
    "print(df['summary'].head(10).to_markdown(index=False, numalign=\"left\", stralign=\"left\"))"
   ]
  },
  {
   "cell_type": "code",
   "execution_count": 100,
   "metadata": {},
   "outputs": [],
   "source": [
    "# Sentiment Analysis\n",
    "sentiment_pipeline = pipeline(\"sentiment-analysis\", model=\"distilbert-base-uncased-finetuned-sst-2-english\")\n"
   ]
  },
  {
   "cell_type": "code",
   "execution_count": 101,
   "metadata": {},
   "outputs": [],
   "source": [
    "\n",
    "df['sentiment'] = df['summary'].apply(lambda x: sentiment_pipeline(x)[0]['label'])\n"
   ]
  },
  {
   "cell_type": "code",
   "execution_count": 102,
   "metadata": {},
   "outputs": [
    {
     "name": "stdout",
     "output_type": "stream",
     "text": [
      "| summary                                                                                                                                                    | sentiment   |\n",
      "|:-----------------------------------------------------------------------------------------------------------------------------------------------------------|:------------|\n",
      "| Shibasolv app managing cryptocurrencies give lot opportunity one track investment improve trading strategy.                                                | POSITIVE    |\n",
      "| The worst application doesnt let connect wallet neither exchange account nothing work. Worst application lets you connect wallet but not exchange account. | NEGATIVE    |\n",
      "| crypto portfolio worth close still cant find transaction connect wallet.                                                                                   | NEGATIVE    |\n",
      "| playstore app say minimum investment needed to download open search trading feature.                                                                       | NEGATIVE    |\n",
      "| Exchange owner shows app individual trader. exchange owner showing app individual traders.                                                                 | NEGATIVE    |\n",
      "| The key is needed to connect to an exchange account connecting to the internet. We have tried many times to find the key but                               | NEGATIVE    |\n",
      "| Shibasolv is an app that allows users to share photos and videos with friends. The app is available in English and Spanish                                 | POSITIVE    |\n",
      "| CNN.com will feature iReporter photos in a weekly Travel Snapshots gallery. Visit CNN.com/Travel each week for a                                           | NEGATIVE    |\n",
      "| \"We have tried use many trading strategy didnt get single profitable trade month none work\" says one trader. \"We have used many trading                    | NEGATIVE    |\n",
      "| Firm says it is working on a new version of its app. It says it has been experiencing problems with some of its features.                                  | NEGATIVE    |\n"
     ]
    }
   ],
   "source": [
    "# Display the first 5 rows of the DataFrame\n",
    "print(df[['summary', 'sentiment']].head(10).to_markdown(index=False, numalign=\"left\", stralign=\"left\"))\n"
   ]
  },
  {
   "cell_type": "code",
   "execution_count": 103,
   "metadata": {},
   "outputs": [
    {
     "name": "stdout",
     "output_type": "stream",
     "text": [
      "| summary                                                                                                                                                    | sentiment_dec   |\n",
      "|:-----------------------------------------------------------------------------------------------------------------------------------------------------------|:----------------|\n",
      "| Shibasolv app managing cryptocurrencies give lot opportunity one track investment improve trading strategy.                                                | 0               |\n",
      "| The worst application doesnt let connect wallet neither exchange account nothing work. Worst application lets you connect wallet but not exchange account. | -1              |\n",
      "| crypto portfolio worth close still cant find transaction connect wallet.                                                                                   | 0.3             |\n",
      "| playstore app say minimum investment needed to download open search trading feature.                                                                       | 0               |\n",
      "| Exchange owner shows app individual trader. exchange owner showing app individual traders.                                                                 | 0               |\n",
      "| The key is needed to connect to an exchange account connecting to the internet. We have tried many times to find the key but                               | 0.166667        |\n",
      "| Shibasolv is an app that allows users to share photos and videos with friends. The app is available in English and Spanish                                 | 0.133333        |\n",
      "| CNN.com will feature iReporter photos in a weekly Travel Snapshots gallery. Visit CNN.com/Travel each week for a                                           | 0               |\n",
      "| \"We have tried use many trading strategy didnt get single profitable trade month none work\" says one trader. \"We have used many trading                    | 0.309524        |\n",
      "| Firm says it is working on a new version of its app. It says it has been experiencing problems with some of its features.                                  | -0.0318182      |\n"
     ]
    }
   ],
   "source": [
    "# Sentiment Analysis (using TextBlob)\n",
    "df['sentiment_dec'] = df['summary'].astype(str).apply(lambda x: TextBlob(x).sentiment.polarity)\n",
    "# Display DataFrame\n",
    "print(df[['summary', 'sentiment_dec']].head(10).to_markdown(index=False, numalign=\"left\", stralign=\"left\"))\n"
   ]
  },
  {
   "cell_type": "code",
   "execution_count": 104,
   "metadata": {},
   "outputs": [
    {
     "name": "stdout",
     "output_type": "stream",
     "text": [
      "\n",
      "Top 5 Positive Reviews:\n",
      "| reviews                                                                                                                                                                                                                                          | clean_reviews                                                                                                                                                        | summary                                                                                                                                                                | sentiment_dec   |\n",
      "|:-------------------------------------------------------------------------------------------------------------------------------------------------------------------------------------------------------------------------------------------------|:---------------------------------------------------------------------------------------------------------------------------------------------------------------------|:-----------------------------------------------------------------------------------------------------------------------------------------------------------------------|:----------------|\n",
      "| This app is such an amazing one! I think every crypto enthusiast should have this app! 10/10 ❤️💕                                                                                                                                                | app amazing one think every crypto enthusiast app                                                                                                                    | Every crypto enthusiast app should have a crypto app. Here are some of the best.                                                                                       | 1               |\n",
      "| Its awesome app                                                                                                                                                                                                                                  | awesome app                                                                                                                                                          | awesome app. awesome app is an app that lets you control your phone from anywhere in the world.                                                                        | 1               |\n",
      "| Perfect app for micro traders who are searching for profitable strategies!                                                                                                                                                                       | perfect app micro trader searching profitable strategy                                                                                                               | The. perfect app micro trader searching profitable strategy is a. profitable strategy.                                                                                 | 1               |\n",
      "| Best app for crypto trading, Best team support, very helpful team                                                                                                                                                                                | best app crypto trading best team support helpful team                                                                                                               | Best app crypto trading best team support support helpful team. best app for crypto trading. Best app for Bitcoin.                                                     | 1               |\n",
      "| It is a helpful app for traders and investors to grow and manage their portfolio This app helps traders in growing and getting wonderful trading opportunities, in giving tips and tricks regarding the trading strategies and how to work, etc. | helpful app trader investor grow manage portfolio app help trader growing getting wonderful trading opportunity giving tip trick regarding trading strategy work etc | app help trader growing getting wonderful trading opportunity giving tip trick regarding trading strategy work. helpful app trader investor grow manage portfolio app. | 1               |\n"
     ]
    }
   ],
   "source": [
    "# Sort by sentiment_dec and get top 5 positive reviews\n",
    "top_5_positive_reviews = df.nlargest(5, 'sentiment_dec')[['reviews', 'clean_reviews', 'summary', 'sentiment_dec']]\n",
    "\n",
    "print(\"\\nTop 5 Positive Reviews:\")\n",
    "print(top_5_positive_reviews.to_markdown(index=False, numalign=\"left\", stralign=\"left\"))\n",
    "\n",
    "\n"
   ]
  },
  {
   "cell_type": "code",
   "execution_count": 105,
   "metadata": {},
   "outputs": [
    {
     "name": "stdout",
     "output_type": "stream",
     "text": [
      "\n",
      "Top 5 Negative Reviews:\n",
      "| reviews                                                                                                                                                                                                     | clean_review_trans                                                                                                                      | summary                                                                                                                                                        | sentiment_dec   |\n",
      "|:------------------------------------------------------------------------------------------------------------------------------------------------------------------------------------------------------------|:----------------------------------------------------------------------------------------------------------------------------------------|:---------------------------------------------------------------------------------------------------------------------------------------------------------------|:----------------|\n",
      "| Worst application. It doesn't let me connect my wallet neither my exchange accounts. Nothing works.                                                                                                         | worst application doesnt let connect wallet neither exchange account nothing work                                                       | The worst application doesnt let connect wallet neither exchange account nothing work. Worst application lets you connect wallet but not exchange account.     | -1              |\n",
      "| Waste of time and Worst app I don't get any profitable trade with app frm last 2 month. Even app does not work properly. Worst app.                                                                         | waste time worst app dont get profitable trade app frm last month even app work properly worst app                                      | Worst app: trade app frm last month even app work properly worst app. waste time. worst app dont get profitable trade app                                      | -0.64           |\n",
      "| Worst app for traders, I have applied trading strategies since months and not received a single profitable trade from their side .                                                                          | worst app trader applied trading strategy since month received single profitable trade side                                             | The worst app trader applied trading strategy since month received single profitable trade side.                                                               | -0.535714       |\n",
      "| Unable to login, don't know how it's working                                                                                                                                                                | unable login dont know working                                                                                                          | unable login dont know working working. Unable to login don't know working.                                                                                    | -0.5            |\n",
      "| Nonsense useless app. Can't connect to any wallets or exchanges. When I try to connect it always show error or user not found. Plz work on your programming. I think there is an error in your programming. | nonsense useless app cant connect wallet exchange try connect always show error user found plz work programming think error programming | Nonsense useless app cant connect wallet exchange. try connect always show error user found plz work programming think error programming. nonsense useless app | -0.5            |\n"
     ]
    }
   ],
   "source": [
    "# Sort by sentiment_dec and get top 5 negative reviews\n",
    "top_5_negative_reviews = df.nsmallest(5, 'sentiment_dec')[['reviews', 'clean_review_trans', 'summary', 'sentiment_dec']]\n",
    "\n",
    "print(\"\\nTop 5 Negative Reviews:\")\n",
    "print(top_5_negative_reviews.to_markdown(index=False, numalign=\"left\", stralign=\"left\"))"
   ]
  }
 ],
 "metadata": {
  "kernelspec": {
   "display_name": "Python 3",
   "language": "python",
   "name": "python3"
  },
  "language_info": {
   "codemirror_mode": {
    "name": "ipython",
    "version": 3
   },
   "file_extension": ".py",
   "mimetype": "text/x-python",
   "name": "python",
   "nbconvert_exporter": "python",
   "pygments_lexer": "ipython3",
   "version": "3.12.3"
  }
 },
 "nbformat": 4,
 "nbformat_minor": 2
}
